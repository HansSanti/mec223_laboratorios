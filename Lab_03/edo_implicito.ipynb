{
 "cells": [
  {
   "cell_type": "markdown",
   "metadata": {},
   "source": [
    "##### Contenido bajo Creative Commons Attribution license CC-BY 4.0. (c) 2015 O. Skurtys"
   ]
  },
  {
   "cell_type": "markdown",
   "metadata": {},
   "source": [
    "## Metodo de Euler implicito"
   ]
  },
  {
   "cell_type": "markdown",
   "metadata": {},
   "source": [
    "Para suprerar los problemas de inestabilidades y poder usar grande paso de tiempo (para accelerar los calculos), se usa esquemas numericos implicitos. El metodo de Euler explicito es explicito en sentido que la solución aproximada al tiempo $t_{n+1}$ depende que de la información calculada al tiempo $t_n$. Se construye el esquema de Euler implicito modificando el esquema de Euler de la manera siguiente:\n",
    "\\begin{equation}\n",
    "\\left\\{\n",
    "\\begin{array}{l}\n",
    "y_{0} \\qquad dado\\\\\n",
    "y_{n+1} = y_n + dt  f\\left(y_{n+1}\\right) \\qquad \\forall n \\geq 0\n",
    "\\end{array}\n",
    "\\right.\n",
    "\\end{equation}\n",
    "¡Vemos que para calcular $y_{n+1}$ debemos conocer $y_{n+1}$! Eso implica que para cada etapa tenemos una ecuación suplementaria a resolver. Existe algoritmos que hacen eso muy bien, pero se necesita realizar más calculos respecto a los metodos explicitos.\n",
    "\n",
    "* A cada etapa, como $y_{k+1}$ es muy cerca de $y_k$ (es decir $y_{k+1} \\approx y_k$) se necesita resolver una ecuación de la forma:\n",
    "\\begin{equation}\n",
    "\\Phi(y_{k+1})=0\n",
    "\\end{equation}\n",
    "Con este metodo, tenemos en primera aproximación, una buena resolución de la ecuación diferencial ordinaria."
   ]
  },
  {
   "cell_type": "markdown",
   "metadata": {},
   "source": [
    "#### Trabajo a realizar"
   ]
  },
  {
   "cell_type": "markdown",
   "metadata": {},
   "source": [
    "Retomamos la ecuación que describe el movimiento de una esfera en un fluido:"
   ]
  },
  {
   "cell_type": "markdown",
   "metadata": {},
   "source": [
    "$$\\begin{equation}\n",
    "m \\frac{dv}{dt} = -\\alpha v +mg   \\qquad {\\rm con} \\qquad   v(0)=0\n",
    "\\end{equation}$$"
   ]
  },
  {
   "cell_type": "markdown",
   "metadata": {},
   "source": [
    "donde $m$ es la masa, $\\alpha$ es el coeficiente de fricción y $g$ es el campo de gravedad."
   ]
  },
  {
   "cell_type": "markdown",
   "metadata": {},
   "source": [
    "1) Para el problema arriba, escribir $y_{n+1}$ en función de $y_n$ para el esquema de Euler implicito."
   ]
  },
  {
   "cell_type": "markdown",
   "metadata": {},
   "source": [
    "2) Escribir una función en python llamada Euler_Implicita$(y_0, dt,\\dots)$ que permite aproximar la solución con el esquema de Euler implicito."
   ]
  },
  {
   "cell_type": "markdown",
   "metadata": {},
   "source": [
    "3) Dibujar las soluciones aproximadas para varios pasos de tiempo. Comparar con la solución obtenida con el metodo Euler explicito. Observar racer la solution ainsi que les solutions approchées pour plusieurs pas de temps. Observer que no tenemos problemas de inestabilidades, es decir para cualquier paso de tiempo, $dt$, la solución aproximada no explota: se dice que el esquema de Euler incondicionalmente estable."
   ]
  },
  {
   "cell_type": "markdown",
   "metadata": {},
   "source": [
    "4) Comentar sus resultados"
   ]
  },
  {
   "cell_type": "markdown",
   "metadata": {},
   "source": [
    "#### Ideas, indicaciones:"
   ]
  },
  {
   "cell_type": "markdown",
   "metadata": {},
   "source": [
    "Para pedir a Python una aprroximación de una solución de una ecuación implicita:\n",
    "\\begin{equation}\n",
    "y=y_k + dt f(t_{k+1},y)\n",
    "\\end{equation}\n",
    "se puede utilizar la función fsolve que tiene la biblioteca scipy.optimize:\n",
    "\n",
    "* fsolve(lambda y:y-yk-dt*F(tkp1,y), y)\n"
   ]
  },
  {
   "cell_type": "markdown",
   "metadata": {},
   "source": [
    "## Metodo de Crank-Nicolson"
   ]
  },
  {
   "cell_type": "markdown",
   "metadata": {},
   "source": [
    "El metodo de Crank-Nicolson es une metodo de orden 2 y es  definido por la formula siguiente:\n",
    "\\begin{equation}\n",
    "\\left\\{\n",
    "\\begin{array}{l}\n",
    "y_{n+\\frac{1}{2}} = y_n + \\frac{dt}{2}  f\\left(t_n+\\frac{dt}{2},y_{n+ \\frac{1}{2}}\\right)\\\\\n",
    "y_{n+1} = y_n +  dt  f\\left(t_n+\\frac{dt}{2},y_{n+ \\frac{1}{2}}\\right)\n",
    "\\end{array}\n",
    "\\right.\n",
    "\\end{equation}\n",
    "El metodo de Crank-Nicolson corresponde a una iteración de Euler implicita sobre el medio paso de tiempo y a un iteración explicita sobre un paso de tiempo. Es decir, el calculo del punto medio es implicito mientras que la segunda etapa es explicita.\n",
    "\n",
    "* El metodo de Crank-Nicolson puede tambien se escribir:\n",
    "\\begin{equation}\n",
    "\\left\\{\n",
    "\\begin{array}{l}\n",
    "y_{0} \\qquad dado\\\\\n",
    "y_{n+1} = y_n + dt  \\frac{f\\left(y_{n+1}\\right) + f\\left(y_{n}\\right)}{2} \\qquad \\forall n \\geq 0\n",
    "\\end{array}\n",
    "\\right.\n",
    "\\end{equation}"
   ]
  },
  {
   "cell_type": "markdown",
   "metadata": {},
   "source": [
    "### Trabajo a realizar"
   ]
  },
  {
   "cell_type": "markdown",
   "metadata": {},
   "source": [
    "1) Para el problema arriba, escribir $y_{n+1}$ en función de $y_n$ para el esquema de Crank-Nicolson."
   ]
  },
  {
   "cell_type": "markdown",
   "metadata": {},
   "source": [
    "2) Escribir una función en python llamada Crank_Nicolson$(y_0, dt,\\dots)$ que permite aproximar la solución con el esquema de Crank-Nicolson."
   ]
  },
  {
   "cell_type": "markdown",
   "metadata": {},
   "source": [
    "3) Dibujar las soluciones aproximadas para varios pasos de tiempo. Comentar."
   ]
  }
 ],
 "metadata": {
  "kernelspec": {
   "display_name": "Python 2",
   "language": "python",
   "name": "python2"
  },
  "language_info": {
   "codemirror_mode": {
    "name": "ipython",
    "version": 2
   },
   "file_extension": ".py",
   "mimetype": "text/x-python",
   "name": "python",
   "nbconvert_exporter": "python",
   "pygments_lexer": "ipython2",
   "version": "2.7.9"
  }
 },
 "nbformat": 4,
 "nbformat_minor": 0
}
